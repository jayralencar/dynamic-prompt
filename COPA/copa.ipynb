{
 "cells": [
  {
   "cell_type": "code",
   "execution_count": 12,
   "metadata": {},
   "outputs": [
    {
     "name": "stdout",
     "output_type": "stream",
     "text": [
      " 1 139  2.91510 I wrote a thank-you note to my grandmother. She became forgetful. She sent me a gift.\n",
      " 2 467  2.82620 The student forgot to do her assignment. She made up an excuse to tell the teacher. The teacher promoted her to the next grade.\n",
      " 3 385  2.27990 The librarian located the book in the stacks. I requested the librarian's help. The book was checked out.\n"
     ]
    }
   ],
   "source": [
    "from pyserini.search import SimpleSearcher\n",
    "import json\n",
    "\n",
    "searcher = SimpleSearcher('./copa_index')\n",
    "hits = searcher.search('do you always have to say check in chess?', k=3)\n",
    "\n",
    "for i in range(len(hits)):\n",
    "    content = json.loads(hits[i].raw)['contents']\n",
    "    print(f'{i+1:2} {hits[i].docid:4} {hits[i].score:.5f} {content}')"
   ]
  },
  {
   "cell_type": "code",
   "execution_count": 14,
   "metadata": {},
   "outputs": [],
   "source": [
    "import xml.etree.ElementTree as ET\n",
    "\n",
    "tree = ET.parse('./data/COPA-resources/datasets/copa-test.xml')\n",
    "root = tree.getroot()\n"
   ]
  },
  {
   "cell_type": "code",
   "execution_count": 17,
   "metadata": {},
   "outputs": [
    {
     "data": {
      "text/plain": [
       "500"
      ]
     },
     "execution_count": 17,
     "metadata": {},
     "output_type": "execute_result"
    }
   ],
   "source": [
    "len(root.findall('item'))"
   ]
  },
  {
   "cell_type": "code",
   "execution_count": 15,
   "metadata": {},
   "outputs": [
    {
     "name": "stderr",
     "output_type": "stream",
     "text": [
      "100%|██████████| 500/500 [02:21<00:00,  3.53it/s]\n"
     ]
    }
   ],
   "source": [
    "from tqdm import tqdm\n",
    "\n",
    "kshot = 3\n",
    "\n",
    "f = open(\"results/copa/text_davinci_002_bm25_{0}shot.test\".format(kshot),'w')\n",
    "\n",
    "logs = []\n",
    "\n",
    "for item in tqdm(root.findall('item')):\n",
    "    qid = item.attrib['id']\n",
    "    p = item.find(\"p\").text\n",
    "    a1 = item.find(\"a1\").text\n",
    "    a2 = item.find(\"a2\").text\n",
    "    \n",
    "    hits = searcher.search(p, k=kshot)\n",
    "    # print(p)\n",
    "    prompt = \"\"\n",
    "    for hit in hits:\n",
    "        hit = json.loads(hit.raw)\n",
    "        template = \"Context: {0}\\nAlternative 1: {1}\\nAlternative 2: {2}\\nCorrect: Alternative {3}\\n\\n\"\n",
    "        prompt += template.format(hit['data']['p'],hit['data']['1'],hit['data']['2'],hit['data']['most-plausible-alternative'])\n",
    "    \n",
    "    prompt += \"Context: {0}\\nAlternative 1: {1}\\nAlternative 2: {2}\\nCorrect: Alternative\".format(p,a1,a2)\n",
    "    # print(prompt)\n",
    "    res = generate(prompt)\n",
    "    # print(res)\n",
    "    \n",
    "    towrite = \"{0} {1} {2}\".format(qid,\"1\" if res == \"1\" else \"0\",\"1\" if res == \"2\" else \"0\")\n",
    "    f.write(towrite+\"\\n\")\n",
    "\n",
    "f.close()\n",
    "    \n",
    "        # print(hit['data'])\n"
   ]
  },
  {
   "cell_type": "markdown",
   "metadata": {},
   "source": [
    "## Random"
   ]
  },
  {
   "cell_type": "code",
   "execution_count": 16,
   "metadata": {},
   "outputs": [],
   "source": [
    "tree_dev = ET.parse('./data/COPA-resources/datasets/copa-dev.xml')\n",
    "root_dev = tree_dev.getroot()\n"
   ]
  },
  {
   "cell_type": "code",
   "execution_count": 17,
   "metadata": {},
   "outputs": [],
   "source": [
    "all_docs = []\n",
    "\n",
    "for item in root_dev.findall('item'):\n",
    "    # print(item.attrib)\n",
    "    doc = {\n",
    "        \"id\":item.attrib['id'],\n",
    "        \"data\": {\n",
    "            \"asks-for\": item.attrib[\"asks-for\"],\n",
    "            \"most-plausible-alternative\": item.attrib['most-plausible-alternative'],\n",
    "            \"p\" : item.find(\"p\").text,\n",
    "            \"1\": item.find(\"a1\").text,\n",
    "            \"2\": item.find(\"a2\").text\n",
    "        },\n",
    "        \"contents\": \"{0} {1} {2}\".format(item.find(\"p\").text, item.find(\"a1\").text,item.find(\"a2\").text)\n",
    "    }\n",
    "    all_docs.append(doc)"
   ]
  },
  {
   "cell_type": "code",
   "execution_count": 18,
   "metadata": {},
   "outputs": [
    {
     "name": "stderr",
     "output_type": "stream",
     "text": [
      "100%|██████████| 500/500 [02:16<00:00,  3.66it/s]\n"
     ]
    }
   ],
   "source": [
    "from tqdm import tqdm\n",
    "import random\n",
    "\n",
    "kshot = 3\n",
    "\n",
    "f = open(\"results/copa/text_davinci_002_random_{0}shot.test\".format(kshot),'w')\n",
    "\n",
    "logs = []\n",
    "\n",
    "for item in tqdm(root.findall('item')):\n",
    "    qid = item.attrib['id']\n",
    "    p = item.find(\"p\").text\n",
    "    a1 = item.find(\"a1\").text\n",
    "    a2 = item.find(\"a2\").text\n",
    "    \n",
    "    # hits = searcher.search(p, k=kshot)\n",
    "    hits = random.sample(all_docs, k=kshot)\n",
    "    # print(p)\n",
    "    prompt = \"\"\n",
    "    \n",
    "    for hit in hits:\n",
    "        # hit = json.loads(hit.raw)\n",
    "        template = \"Context: {0}\\nAlternative 1: {1}\\nAlternative 2: {2}\\nCorrect: Alternative {3}\\n\\n\"\n",
    "        prompt += template.format(hit['data']['p'],hit['data']['1'],hit['data']['2'],hit['data']['most-plausible-alternative'])\n",
    "    \n",
    "    prompt += \"Context: {0}\\nAlternative 1: {1}\\nAlternative 2: {2}\\nCorrect: Alternative\".format(p,a1,a2)\n",
    "    # print(prompt)\n",
    "    res = generate(prompt)\n",
    "    # print(res)\n",
    "    \n",
    "    towrite = \"{0} {1} {2}\".format(qid,\"1\" if res == \"1\" else \"0\",\"1\" if res == \"2\" else \"0\")\n",
    "    f.write(towrite+\"\\n\")\n",
    "\n",
    "f.close()\n",
    "    \n",
    "        # print(hit['data'])\n"
   ]
  },
  {
   "cell_type": "code",
   "execution_count": 11,
   "metadata": {},
   "outputs": [
    {
     "data": {
      "text/plain": [
       "{'id': '1',\n",
       " 'data': {'asks-for': 'cause',\n",
       "  'most-plausible-alternative': '1',\n",
       "  'p': 'My body cast a shadow over the grass.',\n",
       "  '1': 'The sun was rising.',\n",
       "  '2': 'The grass was cut.'},\n",
       " 'contents': 'My body cast a shadow over the grass. The sun was rising. The grass was cut.'}"
      ]
     },
     "execution_count": 11,
     "metadata": {},
     "output_type": "execute_result"
    }
   ],
   "source": [
    "all_docs[0]"
   ]
  },
  {
   "cell_type": "markdown",
   "metadata": {},
   "source": [
    "dynamic 0.746\n",
    "predefined random: 0.666"
   ]
  }
 ],
 "metadata": {
  "interpreter": {
   "hash": "31f2aee4e71d21fbe5cf8b01ff0e069b9275f58929596ceb00d14d90e3e16cd6"
  },
  "kernelspec": {
   "display_name": "Python 3.8.10 64-bit",
   "language": "python",
   "name": "python3"
  },
  "language_info": {
   "codemirror_mode": {
    "name": "ipython",
    "version": 3
   },
   "file_extension": ".py",
   "mimetype": "text/x-python",
   "name": "python",
   "nbconvert_exporter": "python",
   "pygments_lexer": "ipython3",
   "version": "3.8.10"
  },
  "orig_nbformat": 4
 },
 "nbformat": 4,
 "nbformat_minor": 2
}
