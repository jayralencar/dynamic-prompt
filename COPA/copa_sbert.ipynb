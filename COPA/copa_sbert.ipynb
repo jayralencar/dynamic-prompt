{
 "cells": [
  {
   "cell_type": "code",
   "execution_count": 2,
   "metadata": {},
   "outputs": [
    {
     "name": "stderr",
     "output_type": "stream",
     "text": [
      "2022-04-25 12:12:10.307209: W tensorflow/stream_executor/platform/default/dso_loader.cc:64] Could not load dynamic library 'libcudart.so.11.0'; dlerror: libcudart.so.11.0: cannot open shared object file: No such file or directory\n",
      "2022-04-25 12:12:10.307246: I tensorflow/stream_executor/cuda/cudart_stub.cc:29] Ignore above cudart dlerror if you do not have a GPU set up on your machine.\n"
     ]
    }
   ],
   "source": [
    "from sentence_transformers import SentenceTransformer, util\n",
    "model = SentenceTransformer('sentence-transformers/msmarco-bert-base-dot-v5')"
   ]
  },
  {
   "cell_type": "code",
   "execution_count": 3,
   "metadata": {},
   "outputs": [],
   "source": [
    "import json\n",
    "\n",
    "train = [json.loads(l) for l in open(\"../data/COPA/train.jsonl\").readlines()]\n",
    "val = [json.loads(l) for l in open(\"../data/COPA/val.jsonl\").readlines()]\n",
    "test = [json.loads(l) for l in open(\"../data/COPA/test.jsonl\").readlines()]\n",
    "\n",
    "train = train + val"
   ]
  },
  {
   "cell_type": "code",
   "execution_count": 4,
   "metadata": {},
   "outputs": [],
   "source": [
    "passages = [\"Context: {} Alternative 1: {} Alternative 2: {}\".format(item['premise'], item['choice1'], item['choice2']) for item in train]"
   ]
  },
  {
   "cell_type": "code",
   "execution_count": 5,
   "metadata": {},
   "outputs": [
    {
     "data": {
      "application/vnd.jupyter.widget-view+json": {
       "model_id": "81a01919a85f43a3a331d4ebf3450bae",
       "version_major": 2,
       "version_minor": 0
      },
      "text/plain": [
       "Batches:   0%|          | 0/16 [00:00<?, ?it/s]"
      ]
     },
     "metadata": {},
     "output_type": "display_data"
    }
   ],
   "source": [
    "passages_embeddings = model.encode(passages, show_progress_bar=True)"
   ]
  },
  {
   "cell_type": "code",
   "execution_count": 8,
   "metadata": {},
   "outputs": [],
   "source": [
    "import openai\n",
    "import os\n",
    "\n",
    "openai.api_key = os.getenv(\"OPENAI_API_KEY\")\n",
    "\n",
    "def generate(prompt, model=\"text-davinci-002\", temperature=0.0,presence_penalty=2 ):\n",
    "  response = openai.Completion.create(\n",
    "    engine=\"text-davinci-002\",\n",
    "    prompt=prompt,\n",
    "    temperature=temperature,\n",
    "    max_tokens=64,\n",
    "    top_p=1,\n",
    "    frequency_penalty=0,\n",
    "    presence_penalty=presence_penalty,\n",
    "    stop=[\"[END]\"],\n",
    "    logprobs=1\n",
    "  )\n",
    "  return response['choices'][0]['text'].strip()"
   ]
  },
  {
   "cell_type": "code",
   "execution_count": null,
   "metadata": {},
   "outputs": [],
   "source": [
    "from tqdm import tqdm\n",
    "import numpy as np\n",
    "import json\n",
    "\n",
    "kshot = 32\n",
    "model_name = \"text-davinci-002\"\n",
    "\n",
    "logs = []\n",
    "\n",
    "results_file = open(\"../results/COPA_{0}_{1}shot.jsonl\".format(model_name, kshot), \"w\")\n",
    "\n",
    "for item in tqdm(test):\n",
    "    query = \"Context: {0} Alternative 1: {1} Alternative 2: {2}\".format(item['premise'], item['choice1'], item['choice2'])\n",
    "    query_embedding = model.encode(query)\n",
    "\n",
    "    topk = util.dot_score(query_embedding, passages_embeddings)[0].topk(kshot)\n",
    "\n",
    "    hits = np.array(train)[topk.indices]\n",
    "\n",
    "    prompt = \"\"\n",
    "    for hit in hits:\n",
    "        template = \"Context: {0}\\nAlternative 1: {1}\\nAlternative 2: {2}\\nCorrect: Alternative {3}\\n\\n\"\n",
    "        prompt += template.format(hit['premise'],hit['choice1'],hit['choice2'],int(hit['label'])+1)\n",
    "    \n",
    "    prompt += \"Context: {0}\\nAlternative 1: {1}\\nAlternative 2: {2}\\nCorrect: Alternative\".format(item['premise'], item['choice1'], item['choice2'])\n",
    "    \n",
    "    res = generate(prompt, model=model_name)\n",
    "    \n",
    "    results_file.write(json.dumps({\n",
    "        \"idx\": item['idx'],\n",
    "        \"label\": int(res)-1\n",
    "    })+'\\n')\n",
    "\n",
    "results_file.close()"
   ]
  },
  {
   "cell_type": "code",
   "execution_count": 18,
   "metadata": {},
   "outputs": [
    {
     "name": "stderr",
     "output_type": "stream",
     "text": [
      "100%|██████████| 500/500 [05:42<00:00,  1.46it/s]\n"
     ]
    }
   ],
   "source": [
    "from tqdm import tqdm\n",
    "import numpy as np\n",
    "import json, random\n",
    "\n",
    "kshot = 3\n",
    "model_name = \"random\"\n",
    "\n",
    "logs = []\n",
    "\n",
    "results_file = open(\"../results/random/COPA.jsonl\".format(model_name, kshot), \"w\")\n",
    "\n",
    "for item in tqdm(test):\n",
    "    query = \"Context: {0} Alternative 1: {1} Alternative 2: {2}\".format(item['premise'], item['choice1'], item['choice2'])\n",
    "    query_embedding = model.encode(query)\n",
    "\n",
    "    topk = util.dot_score(query_embedding, passages_embeddings)[0].topk(kshot)\n",
    "\n",
    "    hits = random.sample(train, k=kshot)\n",
    "\n",
    "    prompt = \"\"\n",
    "    for hit in hits:\n",
    "        template = \"Context: {0}\\nAlternative 1: {1}\\nAlternative 2: {2}\\nCorrect: Alternative {3}\\n\\n\"\n",
    "        prompt += template.format(hit['premise'],hit['choice1'],hit['choice2'],int(hit['label'])+1)\n",
    "    \n",
    "    prompt += \"Context: {0}\\nAlternative 1: {1}\\nAlternative 2: {2}\\nCorrect: Alternative\".format(item['premise'], item['choice1'], item['choice2'])\n",
    "    \n",
    "    res = generate(prompt, model=model_name)\n",
    "    \n",
    "    results_file.write(json.dumps({\n",
    "        \"idx\": item['idx'],\n",
    "        \"label\": int(res)-1\n",
    "    })+'\\n')\n",
    "\n",
    "results_file.close()"
   ]
  }
 ],
 "metadata": {
  "interpreter": {
   "hash": "31f2aee4e71d21fbe5cf8b01ff0e069b9275f58929596ceb00d14d90e3e16cd6"
  },
  "kernelspec": {
   "display_name": "Python 3.8.10 64-bit",
   "language": "python",
   "name": "python3"
  },
  "language_info": {
   "codemirror_mode": {
    "name": "ipython",
    "version": 3
   },
   "file_extension": ".py",
   "mimetype": "text/x-python",
   "name": "python",
   "nbconvert_exporter": "python",
   "pygments_lexer": "ipython3",
   "version": "3.8.10"
  },
  "orig_nbformat": 4
 },
 "nbformat": 4,
 "nbformat_minor": 2
}
