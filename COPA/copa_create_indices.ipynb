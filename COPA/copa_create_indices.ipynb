{
 "cells": [
  {
   "cell_type": "code",
   "execution_count": 2,
   "metadata": {},
   "outputs": [],
   "source": [
    "import xml.etree.ElementTree as ET"
   ]
  },
  {
   "cell_type": "code",
   "execution_count": 3,
   "metadata": {},
   "outputs": [],
   "source": [
    "tree = ET.parse('./data/COPA-resources/datasets/copa-dev.xml')\n",
    "root = tree.getroot()\n"
   ]
  },
  {
   "cell_type": "code",
   "execution_count": 6,
   "metadata": {},
   "outputs": [],
   "source": [
    "import json\n",
    "f = open(\"copa_jsonl/all.jsonl\",'w')\n",
    "\n",
    "for item in root.findall('item'):\n",
    "    # print(item.attrib)\n",
    "    doc = {\n",
    "        \"id\":item.attrib['id'],\n",
    "        \"data\": {\n",
    "            \"asks-for\": item.attrib[\"asks-for\"],\n",
    "            \"most-plausible-alternative\": item.attrib['most-plausible-alternative'],\n",
    "            \"p\" : item.find(\"p\").text,\n",
    "            \"1\": item.find(\"a1\").text,\n",
    "            \"2\": item.find(\"a2\").text\n",
    "        },\n",
    "        \"contents\": \"{0} {1} {2}\".format(item.find(\"p\").text, item.find(\"a1\").text,item.find(\"a2\").text)\n",
    "    }\n",
    "    f.write(json.dumps(doc)+\"\\n\")\n",
    "    "
   ]
  }
 ],
 "metadata": {
  "interpreter": {
   "hash": "31f2aee4e71d21fbe5cf8b01ff0e069b9275f58929596ceb00d14d90e3e16cd6"
  },
  "kernelspec": {
   "display_name": "Python 3.8.10 64-bit",
   "language": "python",
   "name": "python3"
  },
  "language_info": {
   "codemirror_mode": {
    "name": "ipython",
    "version": 3
   },
   "file_extension": ".py",
   "mimetype": "text/x-python",
   "name": "python",
   "nbconvert_exporter": "python",
   "pygments_lexer": "ipython3",
   "version": "3.8.10"
  },
  "orig_nbformat": 4
 },
 "nbformat": 4,
 "nbformat_minor": 2
}
